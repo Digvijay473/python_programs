{
 "cells": [
  {
   "cell_type": "code",
   "execution_count": null,
   "id": "aa306151",
   "metadata": {},
   "outputs": [],
   "source": [
    "#what is string?\n",
    "# whatever values that you are passing in double,single and triple quote is string"
   ]
  },
  {
   "cell_type": "code",
   "execution_count": null,
   "id": "e49f3438",
   "metadata": {},
   "outputs": [],
   "source": [
    "#for example\n",
    "data='this is 1st string datatype'"
   ]
  },
  {
   "cell_type": "code",
   "execution_count": null,
   "id": "4d69046c",
   "metadata": {},
   "outputs": [],
   "source": [
    "print(data)\n",
    "print(type(data))"
   ]
  },
  {
   "cell_type": "code",
   "execution_count": null,
   "id": "d90dce90",
   "metadata": {},
   "outputs": [],
   "source": [
    "#string is immutable datatype\n",
    "#we can not modify the object i.e string using its index number\n",
    "#we can access the data inside the string using index number(string slicing)\n",
    "#we can override given string"
   ]
  },
  {
   "cell_type": "code",
   "execution_count": null,
   "id": "50736252",
   "metadata": {},
   "outputs": [],
   "source": [
    "data='this is second string'"
   ]
  },
  {
   "cell_type": "code",
   "execution_count": null,
   "id": "2cb98f89",
   "metadata": {},
   "outputs": [],
   "source": [
    "print(data)"
   ]
  },
  {
   "cell_type": "code",
   "execution_count": null,
   "id": "4c86ca59",
   "metadata": {},
   "outputs": [],
   "source": [
    "#Multiple lines"
   ]
  },
  {
   "cell_type": "code",
   "execution_count": null,
   "id": "37efb191",
   "metadata": {},
   "outputs": [],
   "source": [
    "var='''hi this is muliple lines \n",
    "stores inside string'''"
   ]
  },
  {
   "cell_type": "code",
   "execution_count": null,
   "id": "8d52c612",
   "metadata": {},
   "outputs": [],
   "source": [
    "print(var)"
   ]
  },
  {
   "cell_type": "code",
   "execution_count": null,
   "id": "3e1ca427",
   "metadata": {},
   "outputs": [],
   "source": [
    "#use of \\n(prints output on new line whenever /n found)"
   ]
  },
  {
   "cell_type": "code",
   "execution_count": null,
   "id": "415e0523",
   "metadata": {},
   "outputs": [],
   "source": [
    "print('hi my name is written below  \\n digvijay')"
   ]
  },
  {
   "cell_type": "code",
   "execution_count": null,
   "id": "8313fb3c",
   "metadata": {},
   "outputs": [],
   "source": [
    "print('hi my name is  written below \\n akash')"
   ]
  },
  {
   "cell_type": "code",
   "execution_count": null,
   "id": "8da3274f",
   "metadata": {},
   "outputs": [],
   "source": [
    "var[3]"
   ]
  },
  {
   "cell_type": "code",
   "execution_count": null,
   "id": "1ca9a0c2",
   "metadata": {},
   "outputs": [],
   "source": [
    "print(var[3])"
   ]
  },
  {
   "cell_type": "code",
   "execution_count": null,
   "id": "1b43a6b8",
   "metadata": {},
   "outputs": [],
   "source": [
    "print(var[1:])"
   ]
  },
  {
   "cell_type": "code",
   "execution_count": null,
   "id": "0dfe8a63",
   "metadata": {},
   "outputs": [],
   "source": [
    "print(var[6:1])"
   ]
  },
  {
   "cell_type": "code",
   "execution_count": null,
   "id": "d873cbdb",
   "metadata": {},
   "outputs": [],
   "source": [
    "#string slicing can not done in reverse direction\n",
    "print(var[-6:-8])"
   ]
  },
  {
   "cell_type": "code",
   "execution_count": null,
   "id": "226fb55b",
   "metadata": {},
   "outputs": [],
   "source": [
    "print(var[-6:])"
   ]
  },
  {
   "cell_type": "code",
   "execution_count": null,
   "id": "68b73275",
   "metadata": {},
   "outputs": [],
   "source": [
    "#we can pass 3 parameters(start:end:step)\n",
    "print(var[0:17:2])"
   ]
  },
  {
   "cell_type": "code",
   "execution_count": null,
   "id": "f45be58d",
   "metadata": {},
   "outputs": [],
   "source": [
    "print(var[:17])"
   ]
  },
  {
   "cell_type": "code",
   "execution_count": null,
   "id": "70cdb42a",
   "metadata": {},
   "outputs": [],
   "source": [
    "print(var[:17:2])"
   ]
  },
  {
   "cell_type": "code",
   "execution_count": null,
   "id": "0544477f",
   "metadata": {},
   "outputs": [],
   "source": [
    "#String concatnation\n",
    "str='hello'"
   ]
  },
  {
   "cell_type": "code",
   "execution_count": null,
   "id": "66dd305f",
   "metadata": {},
   "outputs": [],
   "source": [
    "str2='hi '"
   ]
  },
  {
   "cell_type": "code",
   "execution_count": null,
   "id": "2614d26d",
   "metadata": {},
   "outputs": [],
   "source": [
    "print(str2+str)"
   ]
  },
  {
   "cell_type": "code",
   "execution_count": null,
   "id": "40b0ecd6",
   "metadata": {},
   "outputs": [],
   "source": []
  }
 ],
 "metadata": {
  "kernelspec": {
   "display_name": "Python 3 (ipykernel)",
   "language": "python",
   "name": "python3"
  },
  "language_info": {
   "codemirror_mode": {
    "name": "ipython",
    "version": 3
   },
   "file_extension": ".py",
   "mimetype": "text/x-python",
   "name": "python",
   "nbconvert_exporter": "python",
   "pygments_lexer": "ipython3",
   "version": "3.9.7"
  }
 },
 "nbformat": 4,
 "nbformat_minor": 5
}
